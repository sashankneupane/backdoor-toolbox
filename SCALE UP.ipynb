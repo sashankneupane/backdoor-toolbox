{
 "cells": [
  {
   "cell_type": "code",
   "execution_count": 1,
   "metadata": {},
   "outputs": [],
   "source": [
    "import torch\n",
    "import torch.nn as nn\n",
    "import torch.optim as optim\n",
    "\n",
    "from torchvision import datasets, transforms, models\n",
    "\n",
    "from backdoor.attacks import BadNets\n",
    "from backdoor.poisons import BadNetsPoison"
   ]
  },
  {
   "cell_type": "code",
   "execution_count": 2,
   "metadata": {},
   "outputs": [],
   "source": [
    "device = torch.device(\"cuda\" if torch.cuda.is_available() else \"cpu\")\n",
    "\n",
    "data_dir = '/data'"
   ]
  },
  {
   "cell_type": "code",
   "execution_count": 3,
   "metadata": {},
   "outputs": [],
   "source": [
    "normalizer = transforms.Compose([\n",
    "    transforms.Normalize((0.4914, 0.4822, 0.4465), (0.2023, 0.1994, 0.2010)),\n",
    "])\n",
    "\n",
    "denormalizer = transforms.Compose([\n",
    "    transforms.Normalize(mean=[0., 0., 0.], std=[1/0.2023, 1/0.1994, 1/0.2010]),\n",
    "    transforms.Normalize(mean=[-0.4914, -0.4822, -0.4465], std=[1., 1., 1.]),\n",
    "])\n",
    "\n",
    "transform_train = transforms.Compose([\n",
    "    transforms.RandomCrop(32, padding=4),\n",
    "    transforms.RandomHorizontalFlip(),\n",
    "    transforms.ToTensor(),\n",
    "    normalizer\n",
    "])\n",
    "\n",
    "transform_test = transforms.Compose([\n",
    "    transforms.ToTensor(),\n",
    "    normalizer\n",
    "])"
   ]
  },
  {
   "cell_type": "code",
   "execution_count": 4,
   "metadata": {},
   "outputs": [
    {
     "name": "stdout",
     "output_type": "stream",
     "text": [
      "Files already downloaded and verified\n",
      "Files already downloaded and verified\n"
     ]
    }
   ],
   "source": [
    "trainset = datasets.CIFAR10(root=data_dir, train=True, download=True, transform=transform_train)\n",
    "testset = datasets.CIFAR10(root=data_dir, train=False, download=True, transform=transform_test)\n",
    "poisoned_testset = BadNetsPoison(\n",
    "    testset,\n",
    "    target_class=5,\n",
    "    poison_ratio=1,\n",
    "    poison_type='dirty',\n",
    "    trigger_img='trigger_10',\n",
    "    trigger_size=3\n",
    ")"
   ]
  },
  {
   "cell_type": "code",
   "execution_count": 5,
   "metadata": {},
   "outputs": [],
   "source": [
    "trainloader = torch.utils.data.DataLoader(trainset, batch_size=128, shuffle=True, num_workers=2)\n",
    "testloader = torch.utils.data.DataLoader(testset, batch_size=100, shuffle=False, num_workers=2)\n",
    "poisoned_testloader = torch.utils.data.DataLoader(poisoned_testset, batch_size=100, shuffle=False, num_workers=2)\n"
   ]
  },
  {
   "cell_type": "code",
   "execution_count": 6,
   "metadata": {},
   "outputs": [],
   "source": [
    "poisoned_net = models.resnet18(weights=None, num_classes=10).to(device)\n",
    "loss_fn = nn.CrossEntropyLoss()\n",
    "optimizer = optim.Adam(poisoned_net.parameters(), lr=0.001)"
   ]
  },
  {
   "cell_type": "code",
   "execution_count": 7,
   "metadata": {},
   "outputs": [],
   "source": [
    "poisoned_net.load_state_dict(torch.load('cifar10_badnet_50.pth'))\n",
    "\n",
    "class Wrapper(nn.Module):\n",
    "    def __init__(self, net):\n",
    "        super(Wrapper, self).__init__()\n",
    "        self.net = net\n",
    "    def forward(self, x):\n",
    "        x = self.net(x)\n",
    "        preds = torch.argmax(x, dim=1)\n",
    "        return preds\n",
    "    \n",
    "wrapped_model = Wrapper(poisoned_net)"
   ]
  },
  {
   "cell_type": "code",
   "execution_count": 8,
   "metadata": {},
   "outputs": [
    {
     "name": "stdout",
     "output_type": "stream",
     "text": [
      "Clean accuracy: 0.8329, \n",
      "Attack success rate: 0.9937\n"
     ]
    }
   ],
   "source": [
    "def test_model(model, dataloader):\n",
    "    model.eval()\n",
    "    correct = 0\n",
    "    total = 0\n",
    "    with torch.no_grad():\n",
    "        for inputs, labels in dataloader:\n",
    "            inputs, labels = inputs.to(device), labels.to(device)\n",
    "            preds = model(inputs) # MLaaS scenario - model only provides labels\n",
    "            correct += (preds == labels).sum().item()\n",
    "            total += labels.size(0)\n",
    "    return correct / total\n",
    "\n",
    "def evaluate_attack(model, clean_loader, poisoned_loader):\n",
    "\n",
    "    clean_acc = test_model(model, clean_loader)\n",
    "    attack_success_count = 0\n",
    "\n",
    "    for inputs, labels, targets in poisoned_loader:\n",
    "        inputs, labels = inputs.to(device), labels.to(device)\n",
    "        targets = targets.to(device)\n",
    "        preds = model(inputs)\n",
    "        correct = (preds == targets).sum().item()\n",
    "        attack_success_count += correct\n",
    "\n",
    "    attack_success_rate = attack_success_count / len(poisoned_loader.dataset)\n",
    "    return clean_acc, attack_success_rate\n",
    "\n",
    "\n",
    "acc, asr = evaluate_attack(wrapped_model, testloader, poisoned_testloader)\n",
    "print(f'Clean accuracy: {acc:.4f}, \\nAttack success rate: {asr:.4f}')"
   ]
  },
  {
   "cell_type": "markdown",
   "metadata": {},
   "source": [
    "# SCALE UP Defense"
   ]
  },
  {
   "cell_type": "code",
   "execution_count": 9,
   "metadata": {},
   "outputs": [],
   "source": [
    "from backdoor.defenses import ScaleUP\n",
    "\n",
    "scaleup_defense = ScaleUP(wrapped_model, [3, 5, 7, 9, 11], normalizer, denormalizer, device)"
   ]
  },
  {
   "cell_type": "code",
   "execution_count": 10,
   "metadata": {},
   "outputs": [
    {
     "name": "stdout",
     "output_type": "stream",
     "text": [
      "Backdoored samples: 434 out of 10000\n"
     ]
    }
   ],
   "source": [
    "backdoored = scaleup_defense.detect_backdoor(testloader, threshold=0.75)\n",
    "print(f'Backdoored samples: {backdoored.sum().item()} out of {len(testloader.dataset)}')"
   ]
  },
  {
   "cell_type": "code",
   "execution_count": 11,
   "metadata": {},
   "outputs": [
    {
     "name": "stdout",
     "output_type": "stream",
     "text": [
      "Backdoored samples detected: 9908 out of 10000\n"
     ]
    }
   ],
   "source": [
    "poisoned_backdoored = scaleup_defense.detect_backdoor(poisoned_testloader, threshold=0.9)\n",
    "print(f'Backdoored samples detected: {poisoned_backdoored.sum().item()} out of {len(poisoned_testloader.dataset)}')"
   ]
  },
  {
   "cell_type": "code",
   "execution_count": 13,
   "metadata": {},
   "outputs": [
    {
     "data": {
      "image/png": "[encoded data removed]",
      "text/plain": [
       "<Figure size 1296x432 with 12 Axes>"
      ]
     },
     "metadata": {
      "needs_background": "light"
     },
     "output_type": "display_data"
    }
   ],
   "source": [
    "import matplotlib.pyplot as plt\n",
    "\n",
    "clean_img, clean_label = testset[1]\n",
    "clean_img = clean_img.to(device)\n",
    "poisoned_img, poisoned_label, target = poisoned_testset[1]\n",
    "poisoned_img = poisoned_img.to(device)\n",
    "\n",
    "scale_set = [1, 2, 3, 4, 5, 6]\n",
    "\n",
    "fig, axes = plt.subplots(2, len(scale_set), figsize=(18, 6))\n",
    "\n",
    "\n",
    "for idx, scale in enumerate(scale_set):\n",
    "    scaled_img = normalizer(denormalizer(clean_img) * scale)\n",
    "    prediction = wrapped_model(scaled_img.unsqueeze(0)).item()\n",
    "    denormalized = torch.clamp(denormalizer(scaled_img), 0, 1)\n",
    "    axes[0, idx].imshow(denormalized.permute(1, 2, 0).cpu())\n",
    "    axes[0, idx].set_title(f'Pred: {prediction}')\n",
    "    axes[0, idx].axis('off')\n",
    "\n",
    "# Process poisoned image\n",
    "for idx, scale in enumerate(scale_set):\n",
    "    scaled_poisoned_img = normalizer(denormalizer(poisoned_img) * scale)\n",
    "    prediction = wrapped_model(scaled_poisoned_img.unsqueeze(0)).item()\n",
    "    denormalized = torch.clamp(denormalizer(scaled_poisoned_img), 0, 1)\n",
    "    axes[1, idx].imshow(denormalized.permute(1, 2, 0).cpu())\n",
    "    axes[1, idx].set_title(f'Pred: {prediction}')\n",
    "    axes[1, idx].axis('off')\n",
    "\n",
    "# Add row labels\n",
    "axes[0, 0].set_ylabel('Clean Image', fontsize=12)\n",
    "axes[1, 0].set_ylabel('Poisoned Image', fontsize=12)\n",
    "\n",
    "# Adjust layout\n",
    "plt.tight_layout()\n",
    "plt.show()"
   ]
  },
  {
   "cell_type": "code",
   "execution_count": null,
   "metadata": {},
   "outputs": [],
   "source": []
  }
 ],
 "metadata": {
  "kernelspec": {
   "display_name": "Python 3 (ipykernel)",
   "language": "python",
   "name": "python3"
  }
 },
 "nbformat": 4,
 "nbformat_minor": 2
}
