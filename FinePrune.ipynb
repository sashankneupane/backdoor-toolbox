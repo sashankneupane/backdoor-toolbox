{
 "cells": [
  {
   "cell_type": "code",
   "execution_count": 1,
   "id": "41501bc1",
   "metadata": {},
   "outputs": [
    {
     "name": "stderr",
     "output_type": "stream",
     "text": [
      "/usr/lib/python3/dist-packages/scipy/__init__.py:146: UserWarning: A NumPy version >=1.17.3 and <1.25.0 is required for this version of SciPy (detected version 1.26.4\n",
      "  warnings.warn(f\"A NumPy version >={np_minversion} and <{np_maxversion}\"\n"
     ]
    }
   ],
   "source": [
    "import torch\n",
    "import torch.nn as nn\n",
    "import torch.optim as optim\n",
    "from torchvision import datasets, transforms, models\n",
    "\n",
    "from backdoor.attacks import BadNets\n",
    "from backdoor.poisons import BadNetsPoison"
   ]
  },
  {
   "cell_type": "code",
   "execution_count": 2,
   "id": "7207324b",
   "metadata": {},
   "outputs": [],
   "source": [
    "device = torch.device('cuda' if torch.cuda.is_available() else 'cpu')\n",
    "\n",
    "data_dir = '/data/'"
   ]
  },
  {
   "cell_type": "code",
   "execution_count": 3,
   "id": "ca979f48",
   "metadata": {},
   "outputs": [],
   "source": [
    "transform_train = transforms.Compose([\n",
    "    transforms.RandomCrop(32, padding=4),\n",
    "    transforms.RandomHorizontalFlip(),\n",
    "    transforms.ToTensor(),\n",
    "    transforms.Normalize((0.4914, 0.4822, 0.4465),\n",
    "                            (0.2023, 0.1994, 0.2010)),\n",
    "])\n",
    "\n",
    "transform_test = transforms.Compose([\n",
    "    transforms.ToTensor(),\n",
    "    transforms.Normalize((0.4914, 0.4822, 0.4465),\n",
    "                            (0.2023, 0.1994, 0.2010)),\n",
    "])"
   ]
  },
  {
   "cell_type": "code",
   "execution_count": 4,
   "id": "e0b3a22b",
   "metadata": {},
   "outputs": [],
   "source": [
    "train_set = datasets.CIFAR10(\n",
    "    root=data_dir, train=True, download=False, transform=transform_train\n",
    ")\n",
    "test_set = datasets.CIFAR10(\n",
    "    root=data_dir, train=False, download=False, transform=transform_test\n",
    ")\n",
    "\n",
    "poisoned_testset = BadNetsPoison(\n",
    "    dataset=test_set,\n",
    "    target_class=5,\n",
    "    poison_ratio=1,\n",
    "    poison_type='dirty',\n",
    "    trigger_img='trigger_10',\n",
    "    trigger_size=3\n",
    ")\n",
    "\n",
    "trainloader = torch.utils.data.DataLoader(\n",
    "    train_set, batch_size=128, shuffle=True, num_workers=2\n",
    ")\n",
    "\n",
    "testloader = torch.utils.data.DataLoader(\n",
    "    test_set, batch_size=128, shuffle=False, num_workers=2\n",
    ")\n",
    "\n",
    "poisoned_testloader = torch.utils.data.DataLoader(\n",
    "    poisoned_testset, batch_size=128, shuffle=False, num_workers=2\n",
    ")"
   ]
  },
  {
   "cell_type": "code",
   "execution_count": 5,
   "id": "c7c11cdf",
   "metadata": {},
   "outputs": [],
   "source": [
    "net = models.resnet18(weights=None, num_classes=10)\n",
    "loss_fn = nn.CrossEntropyLoss()\n",
    "optimizer = optim.Adam(net.parameters(), lr=1e-3)"
   ]
  },
  {
   "cell_type": "code",
   "execution_count": 6,
   "id": "9ab5e89b",
   "metadata": {},
   "outputs": [
    {
     "name": "stderr",
     "output_type": "stream",
     "text": [
      "INFO - Attack: BadNets\n",
      "INFO - Classifier: ResNet(\n",
      "  (conv1): Conv2d(3, 64, kernel_size=(7, 7), stride=(2, 2), padding=(3, 3), bias=False)\n",
      "  (bn1): BatchNorm2d(64, eps=1e-05, momentum=0.1, affine=True, track_running_stats=True)\n",
      "  (relu): ReLU(inplace=True)\n",
      "  (maxpool): MaxPool2d(kernel_size=3, stride=2, padding=1, dilation=1, ceil_mode=False)\n",
      "  (layer1): Sequential(\n",
      "    (0): BasicBlock(\n",
      "      (conv1): Conv2d(64, 64, kernel_size=(3, 3), stride=(1, 1), padding=(1, 1), bias=False)\n",
      "      (bn1): BatchNorm2d(64, eps=1e-05, momentum=0.1, affine=True, track_running_stats=True)\n",
      "      (relu): ReLU(inplace=True)\n",
      "      (conv2): Conv2d(64, 64, kernel_size=(3, 3), stride=(1, 1), padding=(1, 1), bias=False)\n",
      "      (bn2): BatchNorm2d(64, eps=1e-05, momentum=0.1, affine=True, track_running_stats=True)\n",
      "    )\n",
      "    (1): BasicBlock(\n",
      "      (conv1): Conv2d(64, 64, kernel_size=(3, 3), stride=(1, 1), padding=(1, 1), bias=False)\n",
      "      (bn1): BatchNorm2d(64, eps=1e-05, momentum=0.1, affine=True, track_running_stats=True)\n",
      "      (relu): ReLU(inplace=True)\n",
      "      (conv2): Conv2d(64, 64, kernel_size=(3, 3), stride=(1, 1), padding=(1, 1), bias=False)\n",
      "      (bn2): BatchNorm2d(64, eps=1e-05, momentum=0.1, affine=True, track_running_stats=True)\n",
      "    )\n",
      "  )\n",
      "  (layer2): Sequential(\n",
      "    (0): BasicBlock(\n",
      "      (conv1): Conv2d(64, 128, kernel_size=(3, 3), stride=(2, 2), padding=(1, 1), bias=False)\n",
      "      (bn1): BatchNorm2d(128, eps=1e-05, momentum=0.1, affine=True, track_running_stats=True)\n",
      "      (relu): ReLU(inplace=True)\n",
      "      (conv2): Conv2d(128, 128, kernel_size=(3, 3), stride=(1, 1), padding=(1, 1), bias=False)\n",
      "      (bn2): BatchNorm2d(128, eps=1e-05, momentum=0.1, affine=True, track_running_stats=True)\n",
      "      (downsample): Sequential(\n",
      "        (0): Conv2d(64, 128, kernel_size=(1, 1), stride=(2, 2), bias=False)\n",
      "        (1): BatchNorm2d(128, eps=1e-05, momentum=0.1, affine=True, track_running_stats=True)\n",
      "      )\n",
      "    )\n",
      "    (1): BasicBlock(\n",
      "      (conv1): Conv2d(128, 128, kernel_size=(3, 3), stride=(1, 1), padding=(1, 1), bias=False)\n",
      "      (bn1): BatchNorm2d(128, eps=1e-05, momentum=0.1, affine=True, track_running_stats=True)\n",
      "      (relu): ReLU(inplace=True)\n",
      "      (conv2): Conv2d(128, 128, kernel_size=(3, 3), stride=(1, 1), padding=(1, 1), bias=False)\n",
      "      (bn2): BatchNorm2d(128, eps=1e-05, momentum=0.1, affine=True, track_running_stats=True)\n",
      "    )\n",
      "  )\n",
      "  (layer3): Sequential(\n",
      "    (0): BasicBlock(\n",
      "      (conv1): Conv2d(128, 256, kernel_size=(3, 3), stride=(2, 2), padding=(1, 1), bias=False)\n",
      "      (bn1): BatchNorm2d(256, eps=1e-05, momentum=0.1, affine=True, track_running_stats=True)\n",
      "      (relu): ReLU(inplace=True)\n",
      "      (conv2): Conv2d(256, 256, kernel_size=(3, 3), stride=(1, 1), padding=(1, 1), bias=False)\n",
      "      (bn2): BatchNorm2d(256, eps=1e-05, momentum=0.1, affine=True, track_running_stats=True)\n",
      "      (downsample): Sequential(\n",
      "        (0): Conv2d(128, 256, kernel_size=(1, 1), stride=(2, 2), bias=False)\n",
      "        (1): BatchNorm2d(256, eps=1e-05, momentum=0.1, affine=True, track_running_stats=True)\n",
      "      )\n",
      "    )\n",
      "    (1): BasicBlock(\n",
      "      (conv1): Conv2d(256, 256, kernel_size=(3, 3), stride=(1, 1), padding=(1, 1), bias=False)\n",
      "      (bn1): BatchNorm2d(256, eps=1e-05, momentum=0.1, affine=True, track_running_stats=True)\n",
      "      (relu): ReLU(inplace=True)\n",
      "      (conv2): Conv2d(256, 256, kernel_size=(3, 3), stride=(1, 1), padding=(1, 1), bias=False)\n",
      "      (bn2): BatchNorm2d(256, eps=1e-05, momentum=0.1, affine=True, track_running_stats=True)\n",
      "    )\n",
      "  )\n",
      "  (layer4): Sequential(\n",
      "    (0): BasicBlock(\n",
      "      (conv1): Conv2d(256, 512, kernel_size=(3, 3), stride=(2, 2), padding=(1, 1), bias=False)\n",
      "      (bn1): BatchNorm2d(512, eps=1e-05, momentum=0.1, affine=True, track_running_stats=True)\n",
      "      (relu): ReLU(inplace=True)\n",
      "      (conv2): Conv2d(512, 512, kernel_size=(3, 3), stride=(1, 1), padding=(1, 1), bias=False)\n",
      "      (bn2): BatchNorm2d(512, eps=1e-05, momentum=0.1, affine=True, track_running_stats=True)\n",
      "      (downsample): Sequential(\n",
      "        (0): Conv2d(256, 512, kernel_size=(1, 1), stride=(2, 2), bias=False)\n",
      "        (1): BatchNorm2d(512, eps=1e-05, momentum=0.1, affine=True, track_running_stats=True)\n",
      "      )\n",
      "    )\n",
      "    (1): BasicBlock(\n",
      "      (conv1): Conv2d(512, 512, kernel_size=(3, 3), stride=(1, 1), padding=(1, 1), bias=False)\n",
      "      (bn1): BatchNorm2d(512, eps=1e-05, momentum=0.1, affine=True, track_running_stats=True)\n",
      "      (relu): ReLU(inplace=True)\n",
      "      (conv2): Conv2d(512, 512, kernel_size=(3, 3), stride=(1, 1), padding=(1, 1), bias=False)\n",
      "      (bn2): BatchNorm2d(512, eps=1e-05, momentum=0.1, affine=True, track_running_stats=True)\n",
      "    )\n",
      "  )\n",
      "  (avgpool): AdaptiveAvgPool2d(output_size=(1, 1))\n",
      "  (fc): Linear(in_features=512, out_features=10, bias=True)\n",
      ")\n",
      "INFO - Dataset: Dataset CIFAR10\n",
      "    Number of datapoints: 50000\n",
      "    Root location: /data/\n",
      "    Split: Train\n",
      "    StandardTransform\n",
      "Transform: Compose(\n",
      "               RandomCrop(size=(32, 32), padding=4)\n",
      "               RandomHorizontalFlip(p=0.5)\n",
      "               ToTensor()\n",
      "               Normalize(mean=(0.4914, 0.4822, 0.4465), std=(0.2023, 0.1994, 0.201))\n",
      "           )\n",
      "INFO - Epochs: 50\n",
      "INFO - Batch Size: 128\n",
      "INFO - Optimizer: Adam (\n",
      "Parameter Group 0\n",
      "    amsgrad: False\n",
      "    betas: (0.9, 0.999)\n",
      "    capturable: False\n",
      "    differentiable: False\n",
      "    eps: 1e-08\n",
      "    foreach: None\n",
      "    fused: None\n",
      "    lr: 0.001\n",
      "    maximize: False\n",
      "    weight_decay: 0\n",
      ")\n",
      "INFO - Loss Function: CrossEntropyLoss()\n",
      "INFO - \n"
     ]
    }
   ],
   "source": [
    "badnets_attack = BadNets(\n",
    "    device=device,\n",
    "    classifier=net,\n",
    "    trainset=train_set,\n",
    "    testset=test_set,\n",
    "    target_class=5,\n",
    "    epochs=50,\n",
    "    batch_size=128,\n",
    "    optimizer=optimizer,\n",
    "    loss_function=loss_fn\n",
    ")"
   ]
  },
  {
   "cell_type": "code",
   "execution_count": 7,
   "id": "a47183db",
   "metadata": {},
   "outputs": [],
   "source": [
    "# badnets_attack.attack(\n",
    "#     poison_ratio=0.1,\n",
    "#     poison_type='dirty',\n",
    "#     trigger_img='trigger_10',\n",
    "#     trigger_size=3\n",
    "# )\n",
    "\n",
    "# torch.save(net.state_dict(), 'cifar10_badnet_50.pth')"
   ]
  },
  {
   "cell_type": "code",
   "execution_count": 8,
   "id": "8b4430ba",
   "metadata": {},
   "outputs": [],
   "source": [
    "poisoned_net = models.resnet18(weights=None, num_classes=10)\n",
    "poisoned_net.load_state_dict(torch.load('cifar10_badnet_50.pth'))\n",
    "loaded_net = poisoned_net.to(device)"
   ]
  },
  {
   "cell_type": "code",
   "execution_count": 9,
   "id": "33ed92fa",
   "metadata": {},
   "outputs": [
    {
     "name": "stdout",
     "output_type": "stream",
     "text": [
      "Clean accuracy: 0.8330, \n",
      "Attack success rate: 0.9937\n"
     ]
    }
   ],
   "source": [
    "def test_model(model, dataloader):\n",
    "    model.eval()\n",
    "    correct = 0\n",
    "    total = 0\n",
    "    with torch.no_grad():\n",
    "        for inputs, labels in dataloader:\n",
    "            inputs, labels = inputs.to(device), labels.to(device)\n",
    "            outputs = model(inputs)\n",
    "            _, predicted = torch.max(outputs.data, 1)\n",
    "            total += labels.size(0)\n",
    "            correct += (predicted == labels).sum().item()\n",
    "    return correct / total\n",
    "\n",
    "def evaluate_attack(model, clean_loader, poisoned_loader, target_label):\n",
    "\n",
    "    clean_acc = test_model(model, clean_loader)\n",
    "    attack_success_count = 0\n",
    "\n",
    "    for inputs, labels, targets in poisoned_loader:\n",
    "        inputs, labels = inputs.to(device), labels.to(device)\n",
    "        targets = targets.to(device)\n",
    "        outputs = model(inputs)\n",
    "        _, predicted = torch.max(outputs.data, 1)\n",
    "        correct = (predicted == targets).sum().item()\n",
    "        attack_success_count += correct\n",
    "\n",
    "    attack_success_rate = attack_success_count / len(poisoned_loader.dataset)\n",
    "    return clean_acc, attack_success_rate\n",
    "\n",
    "\n",
    "acc, asr = evaluate_attack(poisoned_net, testloader, poisoned_testloader, target_label=5)\n",
    "print(f'Clean accuracy: {acc:.4f}, \\nAttack success rate: {asr:.4f}')"
   ]
  },
  {
   "cell_type": "code",
   "execution_count": 10,
   "id": "27181d0d",
   "metadata": {},
   "outputs": [],
   "source": [
    "import matplotlib.pyplot as plt\n",
    "import numpy as np\n",
    "\n",
    "def visualize_cifar10_images(image1, image2, label1, label2, target, model):\n",
    "\n",
    "    # Transform the images and move to device\n",
    "    image1_tensor = image1.unsqueeze(0).to(device)\n",
    "    image2_tensor = image2.unsqueeze(0).to(device)\n",
    "\n",
    "    with torch.no_grad():\n",
    "        model.eval()\n",
    "        pred1 = model(image1_tensor).argmax(dim=1).item()\n",
    "        pred2 = model(image2_tensor).argmax(dim=1).item()\n",
    "\n",
    "\n",
    "    # Convert the images from tensors to numpy arrays for visualization\n",
    "    image1 = image1_tensor.squeeze().cpu().permute(1, 2, 0).numpy()\n",
    "    image2 = image2_tensor.squeeze().cpu().permute(1, 2, 0).numpy()\n",
    "\n",
    "    # denormalize\n",
    "    mean = np.array([0.4914, 0.4822, 0.4465])\n",
    "    std = np.array([0.2023, 0.1994, 0.2010])\n",
    "    image1 = std * image1 + mean\n",
    "    image2 = std * image2 + mean\n",
    "    \n",
    "    # Create a figure with two subplots\n",
    "    fig, axes = plt.subplots(1, 2, figsize=(10, 5))\n",
    "    \n",
    "    # Display the first image (clean image)\n",
    "    axes[0].imshow(image1)\n",
    "    axes[0].axis('off')\n",
    "    axes[0].set_title(f'Clean Image\\nLabel: {label1}\\nPrediction: {pred1}')\n",
    "\n",
    "    # Display the second image (poisoned image)\n",
    "    axes[1].imshow(image2)\n",
    "    axes[1].axis('off')\n",
    "    axes[1].set_title(f'Poisoned Image\\nLabel: {label2}, Target: {target}\\nPrediction: {pred2}')\n",
    "\n",
    "    # Show the plot\n",
    "    plt.show()\n"
   ]
  },
  {
   "cell_type": "code",
   "execution_count": 11,
   "id": "0bbb58ce",
   "metadata": {},
   "outputs": [],
   "source": [
    "img, label = test_set[3]\n",
    "poisoned_img, poisoned_label, target = poisoned_testset[3]"
   ]
  },
  {
   "cell_type": "code",
   "execution_count": 12,
   "id": "e3042f5a",
   "metadata": {},
   "outputs": [
    {
     "data": {
      "image/png": "[encoded data removed]",
      "text/plain": [
       "<Figure size 720x360 with 2 Axes>"
      ]
     },
     "metadata": {
      "needs_background": "light"
     },
     "output_type": "display_data"
    }
   ],
   "source": [
    "visualize_cifar10_images(img, poisoned_img, label, poisoned_label, target, poisoned_net)"
   ]
  },
  {
   "cell_type": "markdown",
   "id": "4b0e9ac3",
   "metadata": {},
   "source": [
    "# Fine Pruning Defense\n"
   ]
  },
  {
   "cell_type": "code",
   "execution_count": 13,
   "id": "8564f229",
   "metadata": {},
   "outputs": [],
   "source": [
    "from backdoor.defenses import FinePrune"
   ]
  },
  {
   "cell_type": "code",
   "execution_count": 14,
   "id": "d215a90e",
   "metadata": {},
   "outputs": [],
   "source": [
    "new_net = models.resnet18(weights=None, num_classes=10)\n",
    "new_net.load_state_dict(torch.load('cifar10_badnet_50.pth'))\n",
    "new_optimizer = optim.Adam(new_net.parameters(), lr=1e-3)\n",
    "\n",
    "fineprune_defense = FinePrune(\n",
    "    new_net,\n",
    "    testloader,\n",
    "    testloader,\n",
    "    loss_fn,\n",
    "    new_optimizer,\n",
    "    device\n",
    ")"
   ]
  },
  {
   "cell_type": "code",
   "execution_count": 15,
   "id": "5b0af49f",
   "metadata": {},
   "outputs": [
    {
     "name": "stderr",
     "output_type": "stream",
     "text": [
      "/home/sn3006/.local/lib/python3.10/site-packages/torch/autograd/graph.py:744: UserWarning: Plan failed with a cudnnException: CUDNN_BACKEND_EXECUTION_PLAN_DESCRIPTOR: cudnnFinalize Descriptor Failed cudnn_status: CUDNN_STATUS_NOT_SUPPORTED (Triggered internally at ../aten/src/ATen/native/cudnn/Conv_v8.cpp:919.)\n",
      "  return Variable._execution_engine.run_backward(  # Calls into the C++ engine to run the backward pass\n"
     ]
    },
    {
     "name": "stdout",
     "output_type": "stream",
     "text": [
      "Epoch: 1, Loss: 0.5792, Accuracy: 0.89\n",
      "Epoch: 2, Loss: 0.3598, Accuracy: 0.93\n",
      "Epoch: 3, Loss: 0.2573, Accuracy: 0.95\n",
      "Epoch: 4, Loss: 0.2388, Accuracy: 0.94\n",
      "Epoch: 5, Loss: 0.2920, Accuracy: 0.94\n",
      "Epoch: 6, Loss: 0.2696, Accuracy: 0.95\n",
      "Epoch: 7, Loss: 0.2624, Accuracy: 0.93\n",
      "Epoch: 8, Loss: 0.2832, Accuracy: 0.95\n",
      "Epoch: 9, Loss: 0.2765, Accuracy: 0.95\n",
      "Epoch: 10, Loss: 0.2699, Accuracy: 0.93\n"
     ]
    }
   ],
   "source": [
    "fineprune_defense.fine_prune(num_epochs=10, prune_ratio=0.05, min_val_acc=0.5)"
   ]
  },
  {
   "cell_type": "code",
   "execution_count": 16,
   "id": "7caf8ca7",
   "metadata": {},
   "outputs": [
    {
     "data": {
      "text/plain": [
       "(0.9339, 0.1286)"
      ]
     },
     "execution_count": 16,
     "metadata": {},
     "output_type": "execute_result"
    }
   ],
   "source": [
    "defended_net = fineprune_defense.model\n",
    "evaluate_attack(defended_net, testloader, poisoned_testloader, target_label=5)"
   ]
  },
  {
   "cell_type": "code",
   "execution_count": 17,
   "id": "b92a12cb",
   "metadata": {},
   "outputs": [
    {
     "data": {
      "image/png": "[encoded data removed]",
      "text/plain": [
       "<Figure size 720x360 with 2 Axes>"
      ]
     },
     "metadata": {
      "needs_background": "light"
     },
     "output_type": "display_data"
    }
   ],
   "source": [
    "visualize_cifar10_images(img, poisoned_img, label, poisoned_label, target, defended_net)"
   ]
  },
  {
   "cell_type": "code",
   "execution_count": 17,
   "id": "0894fcd0",
   "metadata": {},
   "outputs": [],
   "source": [
    "torch.save(defended_net.state_dict(), 'cifar10_badnet_50_repaired.pth')"
   ]
  },
  {
   "cell_type": "code",
   "execution_count": null,
   "id": "b6ea7201",
   "metadata": {},
   "outputs": [],
   "source": []
  }
 ],
 "metadata": {
  "kernelspec": {
   "display_name": "Python 3 (ipykernel)",
   "language": "python",
   "name": "python3"
  },
  "language_info": {
   "codemirror_mode": {
    "name": "ipython",
    "version": 3
   },
   "file_extension": ".py",
   "mimetype": "text/x-python",
   "name": "python",
   "nbconvert_exporter": "python",
   "pygments_lexer": "ipython3",
   "version": "3.10.12"
  }
 },
 "nbformat": 4,
 "nbformat_minor": 5
}
